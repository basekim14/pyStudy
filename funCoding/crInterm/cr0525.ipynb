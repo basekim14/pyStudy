{
 "cells": [
  {
   "cell_type": "code",
   "execution_count": null,
   "metadata": {},
   "outputs": [],
   "source": [
    "# 특정 태그(?) 기다리기\n",
    "\n",
    "from selenium.webdriver.support.ui import WebDriverWait\n",
    "from selenium.webdriver.support import expected_conditions as EC\n",
    "try:\n",
    "    elements = WebDriverWait(driver, 3).until(\n",
    "        EC.presence_of_element_located((By.ID, \"alex-area\"))\n",
    "    )\n",
    "    more_button = driver.find_element_by_id(\"alex-area\")\n",
    "    more_button.click()\n",
    "except TimeoutException:\n",
    "    loop = False\n",
    "\n",
    "# By.CLASS_NAME\n",
    "# By.CSS_SELECTOR\n",
    "# By.ID\n",
    "# By.NAME\n",
    "# By.TAG_NAME\n",
    "\n",
    "# 키모드/마우스 동작 자동화\n",
    "\n",
    "hidden_submenu = driver.find_element_by_css_selector(\"~~\")\n",
    "\n",
    "actions = webdriver.ActionChains(driver)\n",
    "actions.click(hidden_submenu)\n",
    "actions.perform()\n",
    "\n",
    "# or webdriver.ActionChains(driver).click(hidden_submenu).perform()"
   ]
  }
 ],
 "metadata": {
  "kernelspec": {
   "display_name": "Python 3",
   "language": "python",
   "name": "python3"
  },
  "language_info": {
   "codemirror_mode": {
    "name": "ipython",
    "version": 3
   },
   "file_extension": ".py",
   "mimetype": "text/x-python",
   "name": "python",
   "nbconvert_exporter": "python",
   "pygments_lexer": "ipython3",
   "version": "3.7.7"
  }
 },
 "nbformat": 4,
 "nbformat_minor": 4
}
