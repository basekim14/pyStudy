{
 "cells": [
  {
   "cell_type": "code",
   "execution_count": 31,
   "metadata": {},
   "outputs": [
    {
     "name": "stdout",
     "output_type": "stream",
     "text": [
      "1    . 마스크\n",
      "2    . 스탠드다리미\n",
      "3    . 일회용 마스크\n",
      "4    . 헤드셋\n",
      "5    . 선풍기\n",
      "6    . 이어폰\n",
      "7    . 덴탈마스크\n",
      "8    . 닌텐도 스위치\n",
      "9    . 면도기\n",
      "10   . KF94 마스크\n"
     ]
    }
   ],
   "source": [
    "import requests\n",
    "from bs4 import BeautifulSoup\n",
    "\n",
    "res1 = requests.get('https://search.shopping.naver.com/best100v2/main.nhn')\n",
    "soup1 = BeautifulSoup(res1.content, 'html.parser')\n",
    "\n",
    "data1 = soup1.select('#popular_srch_lst span.txt ._popular_srch_lst_li')\n",
    "for idx, item in enumerate(data1):\n",
    "    print(str(idx + 1).ljust(2), '. ', item.get_text(), sep='')"
   ]
  },
  {
   "cell_type": "code",
   "execution_count": 48,
   "metadata": {},
   "outputs": [
    {
     "name": "stdout",
     "output_type": "stream",
     "text": [
      "01. 다우산업                23,883.09  상승\n",
      "02. 나스닥                 8,809.12   상승\n",
      "03. 홍콩H                 9,798.92   상승\n",
      "04. 상해종합                2,864.41   상승\n",
      "05. 니케이225              19,619.35  하락\n"
     ]
    }
   ],
   "source": [
    "res2 = requests.get('https://finance.naver.com/sise/')\n",
    "soup2 = BeautifulSoup(res2.content, 'html.parser')\n",
    "data2 = soup2.select('#contentarea > div.box_top_submain2 > div.rgt > ul.lst_major > li')\n",
    "\n",
    "for idx, item in enumerate(data2):\n",
    "    # print 함수의 괄호 안이기 때문에 줄바꿈을 해도 인식이 됨 or \\(역슬래시) 를 쓰는 방법\n",
    "    print('{0:>02s}. {1:<20s}{2:<10s} {3}'.format(str(idx + 1), item.find('a').get_text().strip(), \\\n",
    "          item.find('span').get_text(), item.find('em').get_text()))\n",
    "    # 간격 안맞는 것은 한글과의 병기 때문"
   ]
  },
  {
   "cell_type": "code",
   "execution_count": null,
   "metadata": {},
   "outputs": [],
   "source": []
  }
 ],
 "metadata": {
  "kernelspec": {
   "display_name": "Python 3",
   "language": "python",
   "name": "python3"
  },
  "language_info": {
   "codemirror_mode": {
    "name": "ipython",
    "version": 3
   },
   "file_extension": ".py",
   "mimetype": "text/x-python",
   "name": "python",
   "nbconvert_exporter": "python",
   "pygments_lexer": "ipython3",
   "version": "3.7.6"
  }
 },
 "nbformat": 4,
 "nbformat_minor": 4
}
