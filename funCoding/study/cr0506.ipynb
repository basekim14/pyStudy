{
 "cells": [
  {
   "cell_type": "code",
   "execution_count": 5,
   "metadata": {},
   "outputs": [
    {
     "data": {
      "text/plain": [
       "[<h3 class=\"tit_view\" data-translation=\"\">잔금대출에도 DTI 규제 적용 검토</h3>,\n",
       " <h3 class=\"txt_newsview\" data-reactid=\".br9amz7mzn.0\">많이본 뉴스</h3>,\n",
       " <h3 class=\"txt_newsview\">포토&amp;TV</h3>,\n",
       " <h3 class=\"txt_newsview\">이 시각 추천뉴스</h3>,\n",
       " <h3 class=\"txt_newsview\">실시간 주요이슈</h3>]"
      ]
     },
     "execution_count": 5,
     "metadata": {},
     "output_type": "execute_result"
    }
   ],
   "source": [
    "import requests\n",
    "from bs4 import BeautifulSoup as bs\n",
    "\n",
    "res = requests.get('http://v.media.daum.net/v/20170615203441266')\n",
    "soup = bs(res.content, 'html.parser')\n",
    "\n",
    "data1 = soup.find_all('h3')\n",
    "data1\n"
   ]
  },
  {
   "cell_type": "code",
   "execution_count": 4,
   "metadata": {},
   "outputs": [
    {
     "data": {
      "text/plain": [
       "[<h3 class=\"tit_view\" data-translation=\"\">잔금대출에도 DTI 규제 적용 검토</h3>,\n",
       " <h3 class=\"txt_newsview\" data-reactid=\".br9amz7mzn.0\">많이본 뉴스</h3>,\n",
       " <h3 class=\"txt_newsview\">포토&amp;TV</h3>,\n",
       " <h3 class=\"txt_newsview\">이 시각 추천뉴스</h3>,\n",
       " <h3 class=\"txt_newsview\">실시간 주요이슈</h3>]"
      ]
     },
     "execution_count": 4,
     "metadata": {},
     "output_type": "execute_result"
    }
   ],
   "source": [
    "# list 형태로 리턴\n",
    "data2 = soup.select('h3')\n",
    "data2"
   ]
  },
  {
   "cell_type": "code",
   "execution_count": 9,
   "metadata": {},
   "outputs": [
    {
     "name": "stdout",
     "output_type": "stream",
     "text": [
      "data3 :  <h3 class=\"tit_view\" data-translation=\"\">잔금대출에도 DTI 규제 적용 검토</h3>\n",
      "data4 :  [<h3 class=\"tit_view\" data-translation=\"\">잔금대출에도 DTI 규제 적용 검토</h3>]\n"
     ]
    }
   ],
   "source": [
    "data3 = soup.find('h3', 'tit_view')\n",
    "\n",
    "# 요소가 하나여도 list 형태로 리턴\n",
    "data4 = soup.select('h3.tit_view')\n",
    "\n",
    "print('data3 : ', data3)\n",
    "print('data4 : ', data4)"
   ]
  },
  {
   "cell_type": "code",
   "execution_count": 10,
   "metadata": {},
   "outputs": [],
   "source": [
    "# 다중 클래스 선택 시 공백으로 \n",
    "data5 = soup.find('h3', 'class1 class2')\n",
    "# 다중 클래스 선택 시 .으로 연결\n",
    "data6 = soup.select('h3.class1.class2')"
   ]
  },
  {
   "cell_type": "code",
   "execution_count": 18,
   "metadata": {},
   "outputs": [
    {
     "data": {
      "text/plain": [
       "'잔금대출에도 DTI 규제 적용 검토'"
      ]
     },
     "execution_count": 18,
     "metadata": {},
     "output_type": "execute_result"
    }
   ],
   "source": [
    "# list 형태로 반환하기 때문에 요소에 직접 접근하여야 함\n",
    "data7 = soup.select('#cSub > div > h3')\n",
    "data7[0].get_text()"
   ]
  },
  {
   "cell_type": "markdown",
   "metadata": {},
   "source": [
    "# 잔팁\n",
    "- 일반적인 CSS selector 형태는 전부 사용 가능\n",
    "select('h3')\n",
    "select('h3.tit_view')\n",
    "select('div.ah_roll_area.PM_CL_realtimeKeyword_rolling')\n",
    "select('.tit_view')\n",
    "select('#id')\n",
    "select('html head title')\n",
    "select('div.tit_view div#harmoney')"
   ]
  }
 ],
 "metadata": {
  "kernelspec": {
   "display_name": "Python 3",
   "language": "python",
   "name": "python3"
  },
  "language_info": {
   "codemirror_mode": {
    "name": "ipython",
    "version": 3
   },
   "file_extension": ".py",
   "mimetype": "text/x-python",
   "name": "python",
   "nbconvert_exporter": "python",
   "pygments_lexer": "ipython3",
   "version": "3.7.6"
  }
 },
 "nbformat": 4,
 "nbformat_minor": 4
}
