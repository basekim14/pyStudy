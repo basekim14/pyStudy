{
 "cells": [
  {
   "cell_type": "markdown",
   "metadata": {},
   "source": [
    "# 엑셀 파일 생성"
   ]
  },
  {
   "cell_type": "code",
   "execution_count": 12,
   "metadata": {
    "scrolled": true
   },
   "outputs": [],
   "source": [
    "import openpyxl\n",
    "\n",
    "excel_file = openpyxl.Workbook()\n",
    "excel_sheet = excel_file.active\n",
    "# excel_sheet = excel_file.create_sheet('name') : 시트 생성\n",
    "\n",
    "for idx in range(9):\n",
    "    excel_sheet.append(['안녕' + str(idx)])\n",
    "    \n",
    "excel_file.save('./excel/test.xlsx')\n",
    "excel_file.close()"
   ]
  },
  {
   "cell_type": "markdown",
   "metadata": {},
   "source": [
    "# 엑셀 파일 읽기"
   ]
  },
  {
   "cell_type": "code",
   "execution_count": 15,
   "metadata": {},
   "outputs": [
    {
     "name": "stdout",
     "output_type": "stream",
     "text": [
      "안녕0\n",
      "안녕1\n",
      "안녕2\n",
      "안녕3\n",
      "안녕4\n",
      "안녕5\n",
      "안녕6\n",
      "안녕7\n",
      "안녕8\n"
     ]
    }
   ],
   "source": [
    "import openpyxl\n",
    "\n",
    "excel_file = openpyxl.load_workbook('./excel/test.xlsx')\n",
    "excel_sheet = excel_file.active\n",
    "\n",
    "for row in excel_sheet.rows:\n",
    "    print(row[0].value)\n",
    "\n",
    "excel_file.close()"
   ]
  }
 ],
 "metadata": {
  "kernelspec": {
   "display_name": "Python 3",
   "language": "python",
   "name": "python3"
  },
  "language_info": {
   "codemirror_mode": {
    "name": "ipython",
    "version": 3
   },
   "file_extension": ".py",
   "mimetype": "text/x-python",
   "name": "python",
   "nbconvert_exporter": "python",
   "pygments_lexer": "ipython3",
   "version": "3.7.6"
  }
 },
 "nbformat": 4,
 "nbformat_minor": 4
}
