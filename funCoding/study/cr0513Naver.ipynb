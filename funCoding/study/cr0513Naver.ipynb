{
 "cells": [
  {
   "cell_type": "code",
   "execution_count": null,
   "metadata": {},
   "outputs": [],
   "source": [
    "# Naver Open API\n",
    "\n",
    "import requests\n",
    "# import pprint\n",
    "import urllib \n",
    "import openpyxl\n",
    "\n",
    "def request_param(name:string, param:string) -> string:\n",
    "    if param: \n",
    "        return '&' + name + '=' + param\n",
    "    else: \n",
    "        return ''\n",
    "\n",
    "client_id = 'mwpGhaIReKzrPSEHNFP2'\n",
    "client_secret = '9_YFHLaeWg'\n",
    "\n",
    "s = \"shop\"\n",
    "keyword = urllib.parse.quote(\"아이폰\")\n",
    "display = request_param('display', '5')\n",
    "naver_open_api = \"https://openapi.naver.com/v1/search/\" + s + \".json?query=\" + keyword \\\n",
    "                    + display \n",
    "header_params = { \"X-Naver-Client-Id\" : client_id, \n",
    "                  \"X-Naver-Client-Secret\" : client_secret }\n",
    "\n",
    "res = requests.get(naver_open_api, headers = header_params)\n",
    "\n",
    "# 예외 처리\n",
    "if res.status_code == 200:\n",
    "    # res.text, pprint.pprint() - 구조화된 데이터\n",
    "    data = res.json()\n",
    "    # print(data)\n",
    "else:\n",
    "    print(\"Erro Code : \", res.stauts_code)\n",
    "    \n",
    "for idx, item in enumerate(data[\"items\"]):\n",
    "    print(idx+1, \".\", item[\"title\"], '\\n\\t-', item[\"link\"])"
   ]
  }
 ],
 "metadata": {
  "kernelspec": {
   "display_name": "Python 3",
   "language": "python",
   "name": "python3"
  },
  "language_info": {
   "codemirror_mode": {
    "name": "ipython",
    "version": 3
   },
   "file_extension": ".py",
   "mimetype": "text/x-python",
   "name": "python",
   "nbconvert_exporter": "python",
   "pygments_lexer": "ipython3",
   "version": "3.7.6"
  }
 },
 "nbformat": 4,
 "nbformat_minor": 4
}
