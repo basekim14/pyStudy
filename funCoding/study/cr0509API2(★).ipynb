{
 "cells": [
  {
   "cell_type": "markdown",
   "metadata": {},
   "source": [
    "# 네이버 Open API 사용하기"
   ]
  },
  {
   "cell_type": "code",
   "execution_count": 40,
   "metadata": {},
   "outputs": [
    {
     "name": "stdout",
     "output_type": "stream",
     "text": [
      "1 . [이주간 추천 금융상품]미래에셋생명, 간편고지형 '내가 설계하는 보장보험' ... \n",
      "\t- http://www.econovill.com/news/articleView.html?idxno=395876\n",
      "2 . 압도적인 게이밍 성능과 뛰어난 가성비, ‘사이버폭스 블루투스 이어폰’ \n",
      "\t- http://www.gameshot.net/common/con_view.php?code=GA5eb664eed89c3\n",
      "3 . <b>아이폰</b>SE2 6일 출시… LG 벨벳, 갤럭시A51 사전예약 할인 혜택 ‘하나폰’ \n",
      "\t- https://news.naver.com/main/read.nhn?mode=LSD&mid=sec&sid1=105&oid=468&aid=0000656518\n",
      "4 . 역대급 성능 가진 '갤럭시노트 20' 콘셉트 사진이 최초 공개됐다 \n",
      "\t- https://www.insight.co.kr/news/282967\n",
      "5 . [시세N] 중고폰 가격 안정세, 갤럭시 1개 모델ㆍ<b>아이폰</b> 5개 모델 소폭 하락 \n",
      "\t- http://www.bigtanews.co.kr/news/articleView.html?idxno=5433\n"
     ]
    }
   ],
   "source": [
    "# Naver Open API\n",
    "# Client ID : mwpGhaIReKzrPSEHNFP2\n",
    "# Client PW : 9_YFHLaeWg\n",
    "\n",
    "import requests\n",
    "# import pprint\n",
    "import urllib \n",
    "\n",
    "def request_param(name, param):\n",
    "    if param: return '&' + name + '=' + param\n",
    "    else: return ''\n",
    "\n",
    "client_id = 'mwpGhaIReKzrPSEHNFP2'\n",
    "client_secret = '9_YFHLaeWg'\n",
    "\n",
    "\"\"\"\n",
    "url = u'http://localhost/test/한글message.html'\n",
    "urllib.urlretrieve(urllib.quote(url.encode('utf8'), '/:'))\n",
    "\n",
    "\n",
    "urllib의 urlopen이나 urlretrieve를 사용할 때 url안에 한글 코드가 들어가 있는 경우 정확하게 url을 encoding 해주지 않으면 Unicode Error가 발생한다.\n",
    "\n",
    "한글이 들어간 url은 unicode이고 url은 ascii여야 하기 때문에 한글이 들어간 원 url은 'utf8'로 encoding되어야 하고 ascii가 아닌 문자들은 quote되어야 한다.\n",
    "\n",
    "quote함수를 사용할 때 host part 부분은 escape되면 안되므로 escape되지 않아야 할 character에 '/', ':'를 지정한다.\n",
    "\n",
    "\"\"\"\n",
    "\n",
    "keyword = urllib.parse.quote(\"아이폰\")\n",
    "display = request_param('display', '5')\n",
    "naver_open_api = \"https://openapi.naver.com/v1/search/news.json?query=\" + keyword \\\n",
    "                    + display\n",
    "header_params = { \"X-Naver-Client-Id\" : client_id, \n",
    "                  \"X-Naver-Client-Secret\" : client_secret }\n",
    "\n",
    "res = requests.get(naver_open_api, headers = header_params)\n",
    "\n",
    "# 예외 처리\n",
    "if res.status_code == 200:\n",
    "    # res.text, pprint.pprint() - 구조화된 데이터\n",
    "    data = res.json()\n",
    "    # print(data)\n",
    "else:\n",
    "    print(\"Erro Code : \", res.stauts_code)\n",
    "    \n",
    "for idx, item in enumerate(data[\"items\"]):\n",
    "    print(idx+1, \".\", item[\"title\"], '\\n\\t-', item[\"link\"])"
   ]
  },
  {
   "cell_type": "code",
   "execution_count": null,
   "metadata": {},
   "outputs": [],
   "source": []
  }
 ],
 "metadata": {
  "kernelspec": {
   "display_name": "Python 3",
   "language": "python",
   "name": "python3"
  },
  "language_info": {
   "codemirror_mode": {
    "name": "ipython",
    "version": 3
   },
   "file_extension": ".py",
   "mimetype": "text/x-python",
   "name": "python",
   "nbconvert_exporter": "python",
   "pygments_lexer": "ipython3",
   "version": "3.7.6"
  }
 },
 "nbformat": 4,
 "nbformat_minor": 4
}
