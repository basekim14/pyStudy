{
 "cells": [
  {
   "cell_type": "code",
   "execution_count": null,
   "metadata": {},
   "outputs": [],
   "source": [
    "\"\"\"\n",
    "ㄱㄱㅊ <basekim14@gmail.com>\n",
    "Study data structure & algorithm with 『파이썬 자료구조와 알고리즘』(한빛미디어)\n",
    "\"\"\""
   ]
  },
  {
   "cell_type": "code",
   "execution_count": 4,
   "metadata": {
    "scrolled": true
   },
   "outputs": [
    {
     "name": "stdout",
     "output_type": "stream",
     "text": [
      "10진법: 11\n",
      "2진법: 3\n",
      "8진법: 9\n"
     ]
    }
   ],
   "source": [
    "# 1.1 정수\n",
    "s = \"13\"\n",
    "print(\"10진법:\", int(s)) # == int(s, 10)\n",
    "print(\"2진법:\", int(s, 2))\n",
    "print(\"8진법:\", int(s, 8))"
   ]
  },
  {
   "cell_type": "code",
   "execution_count": 12,
   "metadata": {},
   "outputs": [
    {
     "name": "stdout",
     "output_type": "stream",
     "text": [
      "True\n",
      "9 6\n",
      "9 6\n",
      "6000.0\n",
      "6235.2\n",
      "(25, 4)\n"
     ]
    }
   ],
   "source": [
    "# 1.2 부동소수점\n",
    "def custom_assertAlmostEqual(first, second, places=7):\n",
    "    return round(abs(first-second), places) == 0\n",
    "\n",
    "print(custom_assertAlmostEqual(0.2 * 3, 0.6))\n",
    "\n",
    "a1, b1 = divmod(87, 9)\n",
    "a2, b2 = 87 // 9, 87 % 9\n",
    "\n",
    "print(a1, b1)\n",
    "print(a2, b2)\n",
    "\n",
    "floating = 6235.235\n",
    "print(round(floating, -3))\n",
    "print(round(floating, 1))\n",
    "\n",
    "print(6.25.as_integer_ratio())"
   ]
  },
  {
   "cell_type": "code",
   "execution_count": 13,
   "metadata": {},
   "outputs": [
    {
     "name": "stdout",
     "output_type": "stream",
     "text": [
      "5.0 2.0 (5-2j)\n"
     ]
    }
   ],
   "source": [
    "# 1.3 복소수\n",
    "z = 5 + 2j\n",
    "print(z.real, z.imag, z.conjugate())"
   ]
  },
  {
   "cell_type": "code",
   "execution_count": 32,
   "metadata": {},
   "outputs": [
    {
     "name": "stdout",
     "output_type": "stream",
     "text": [
      "5/4 <class 'fractions.Fraction'>\n",
      "5/4 <class 'fractions.Fraction'>\n",
      "5 4\n",
      "5 4\n"
     ]
    }
   ],
   "source": [
    "# 1.4 fraction module\n",
    "from fractions import Fraction\n",
    "\n",
    "fr1 = Fraction(5, 4)\n",
    "print(fr1, type(fr1))\n",
    "\n",
    "# float to Fraciton\n",
    "fr2 = Fraction(*1.25.as_integer_ratio())\n",
    "print(fr2, type(fr2))\n",
    "\n",
    "# numerator, denominator\n",
    "numer1, denom1 = float(fr1).as_integer_ratio()\n",
    "numer2, denom2 = fr1.numerator, fr1.denominator\n",
    "print(numer1, denom1)\n",
    "print(numer2, denom2)"
   ]
  },
  {
   "cell_type": "code",
   "execution_count": 54,
   "metadata": {},
   "outputs": [
    {
     "name": "stdout",
     "output_type": "stream",
     "text": [
      "False\n",
      "True\n"
     ]
    }
   ],
   "source": [
    "# 1.5 decimal module\n",
    "from decimal import Decimal\n",
    "\n",
    "print(sum(0.01 for i in range(100)) == 1.0)\n",
    "print(sum(Decimal(\"0.01\") for i in range(100)) == Decimal(\"1.0\"))"
   ]
  },
  {
   "cell_type": "code",
   "execution_count": 56,
   "metadata": {},
   "outputs": [
    {
     "name": "stdout",
     "output_type": "stream",
     "text": [
      "0b1111100111\n",
      "0o1747\n",
      "0x3e7\n"
     ]
    }
   ],
   "source": [
    "# 1.6 진법\n",
    "n = 999\n",
    "print(bin(n))\n",
    "print(oct(n))\n",
    "print(hex(n))"
   ]
  },
  {
   "cell_type": "code",
   "execution_count": 62,
   "metadata": {},
   "outputs": [
    {
     "name": "stdout",
     "output_type": "stream",
     "text": [
      "53\n",
      "53\n"
     ]
    }
   ],
   "source": [
    "# 1.7 \n",
    "def convert_to_decimal(number, base):\n",
    "    multiplier, result = 1, 0\n",
    "    while number > 0:\n",
    "        result += number % 10 * multiplier\n",
    "        multiplier *= base\n",
    "        number //= 10\n",
    "    return result\n",
    "\n",
    "number = 65\n",
    "print(int(str(number), 8))\n",
    "print(convert_to_decimal(number, 8))\n",
    "\n",
    "def convert_from_decimal(number, base):\n",
    "    if 0 < base <= 10:\n",
    "        return\n",
    "    elif 10 < base <= 20:\n",
    "        string = \"0123456789ABCDEFGHIJ\"\n",
    "        return\n",
    "    else:\n",
    "        return None"
   ]
  },
  {
   "cell_type": "code",
   "execution_count": null,
   "metadata": {},
   "outputs": [],
   "source": []
  }
 ],
 "metadata": {
  "kernelspec": {
   "display_name": "Python 3",
   "language": "python",
   "name": "python3"
  },
  "language_info": {
   "codemirror_mode": {
    "name": "ipython",
    "version": 3
   },
   "file_extension": ".py",
   "mimetype": "text/x-python",
   "name": "python",
   "nbconvert_exporter": "python",
   "pygments_lexer": "ipython3",
   "version": "3.7.7"
  }
 },
 "nbformat": 4,
 "nbformat_minor": 4
}
