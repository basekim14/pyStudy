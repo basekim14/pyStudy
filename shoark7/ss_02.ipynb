{
 "cells": [
  {
   "cell_type": "code",
   "execution_count": null,
   "metadata": {},
   "outputs": [],
   "source": [
    "\"\"\"\n",
    "ㄱㄱㅊ <basekim14@gmail.com>, 20-06-12\n",
    "Study python using shaork's post(https://shoark7.github.io/)\n",
    "\"\"\""
   ]
  },
  {
   "cell_type": "code",
   "execution_count": 18,
   "metadata": {},
   "outputs": [
    {
     "name": "stdout",
     "output_type": "stream",
     "text": [
      "start_func decorator\n",
      "finish_func decorator\n",
      "track_time decorator\n",
      "==== func start ====\n",
      "Hello, my name is gunho.\n",
      "==== func end ====\n",
      "Execute Time: 0.0\n"
     ]
    }
   ],
   "source": [
    "# decorator\n",
    "\n",
    "from time import time\n",
    "\n",
    "def start_func(func):\n",
    "    print(\"start_func decorator\")\n",
    "    def wrapper(*args, **kwargs):\n",
    "        print(\"==== func start ====\")\n",
    "        return func(*args, **kwargs)\n",
    "    return wrapper\n",
    "\n",
    "def finish_func(func):\n",
    "    print(\"finish_func decorator\")\n",
    "    def wrapper(*args, **kwargs):\n",
    "        result = func(*args, **kwargs)\n",
    "        print(\"==== func end ====\")\n",
    "        return result\n",
    "    return wrapper\n",
    "    \n",
    "def track_time(func):\n",
    "    print(\"track_time decorator\")\n",
    "    def new_func(*args, **kwargs):\n",
    "        start_time = time()\n",
    "        func(*args, **kwargs)\n",
    "        end_time = time()\n",
    "        exec_time = end_time - start_time\n",
    "        print(\"Execute Time: {time}\".format(time=exec_time))\n",
    "    return new_func\n",
    "\n",
    "# like as start_func(finish_func(track_time(hello()))) ..? not ?\n",
    "@track_time # first deco\n",
    "@finish_func\n",
    "@start_func\n",
    "def hello(name):\n",
    "    print(\"Hello, my name is \" + name + \".\")\n",
    "\n",
    "hello(\"gunho\")"
   ]
  },
  {
   "cell_type": "code",
   "execution_count": 23,
   "metadata": {},
   "outputs": [
    {
     "name": "stdout",
     "output_type": "stream",
     "text": [
      "(out) doce 2\n",
      "(out) deco 1\n",
      "==============\n",
      "(in) deco 1\n",
      "(in) doce 2\n",
      "hello!\n"
     ]
    }
   ],
   "source": [
    "def decorator1(func):\n",
    "    print(\"(out) deco 1\")\n",
    "    def wrapper():\n",
    "        print(\"(in) deco 1\")\n",
    "        func()\n",
    "    return wrapper\n",
    "\n",
    "def decorator2(func):\n",
    "    print(\"(out) doce 2\")\n",
    "    def wrapper():\n",
    "        print(\"(in) doce 2\")\n",
    "        func()\n",
    "    return wrapper\n",
    "\n",
    "# like as decorated_hello = decorator1(decorator2(hello)) -> 'out' print excute. \n",
    "\n",
    "@decorator1\n",
    "@decorator2\n",
    "def hello():\n",
    "    print(\"hello!\")\n",
    "\n",
    "print(\"==============\")\n",
    "    \n",
    "hello()\n"
   ]
  },
  {
   "cell_type": "code",
   "execution_count": null,
   "metadata": {},
   "outputs": [],
   "source": []
  }
 ],
 "metadata": {
  "kernelspec": {
   "display_name": "Python 3",
   "language": "python",
   "name": "python3"
  },
  "language_info": {
   "codemirror_mode": {
    "name": "ipython",
    "version": 3
   },
   "file_extension": ".py",
   "mimetype": "text/x-python",
   "name": "python",
   "nbconvert_exporter": "python",
   "pygments_lexer": "ipython3",
   "version": "3.7.7"
  }
 },
 "nbformat": 4,
 "nbformat_minor": 4
}
