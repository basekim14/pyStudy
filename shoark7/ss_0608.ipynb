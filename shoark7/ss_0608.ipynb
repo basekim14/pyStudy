{
 "cells": [
  {
   "cell_type": "code",
   "execution_count": null,
   "metadata": {},
   "outputs": [],
   "source": [
    "\"\"\"\n",
    "ㄱㄱㅊ <basekim14@gmail.com>, 20-06-08\n",
    "Study python using shaork's post(https://shoark7.github.io/)\n",
    "\"\"\""
   ]
  },
  {
   "cell_type": "code",
   "execution_count": 2,
   "metadata": {},
   "outputs": [
    {
     "name": "stdout",
     "output_type": "stream",
     "text": [
      "greater than three\n"
     ]
    }
   ],
   "source": [
    "# Ternary operators\n",
    "k = 5\n",
    "print(k) if k < 4 else print(\"greater than three\")"
   ]
  },
  {
   "cell_type": "code",
   "execution_count": 36,
   "metadata": {},
   "outputs": [
    {
     "name": "stdout",
     "output_type": "stream",
     "text": [
      "[10.95, 11.35, 11.47]\n",
      "Simple is Best\n"
     ]
    }
   ],
   "source": [
    "# Even list\n",
    "import time\n",
    "\n",
    "def outer():\n",
    "    def inner(n):\n",
    "        return round(n, 2)\n",
    "    return inner\n",
    "\n",
    "result1 = []\n",
    "result2 = []\n",
    "result3 = []\n",
    "n = 100000000\n",
    "\n",
    "start = time.time()\n",
    "\n",
    "for i in range(n):\n",
    "    if i % 2 == 0:\n",
    "        result1.append(i)\n",
    "\n",
    "result1_time = time.time() - start\n",
    "start = time.time()\n",
    "        \n",
    "for i in range(n):\n",
    "    result2.append(i) if i % 2 == 0 else None\n",
    "    # result2.append(i) if i % 2 == 0 else \"\"\"\"\"\"\n",
    "\n",
    "result2_time = time.time() - start\n",
    "start = time.time()\n",
    "    \n",
    "for i in range(n):\n",
    "    i % 2 == 0 and result3.append(i)\n",
    "    \n",
    "result3_time = time.time() - start\n",
    "start = time.time()\n",
    "        \n",
    "# print(result1)\n",
    "# print(result2)\n",
    "# print(result3)\n",
    "# print(result1_time, result2_time, result3_time)\n",
    "time_round = outer()\n",
    "print(list(map(time_round, [result1_time, result2_time, result3_time])))\n",
    "print(\"Simple is Best\")"
   ]
  },
  {
   "cell_type": "code",
   "execution_count": 4,
   "metadata": {},
   "outputs": [
    {
     "name": "stdout",
     "output_type": "stream",
     "text": [
      "['', '', 'Fizz', '', 'Buzz', 'Fizz', '', '', 'Fizz', 'Buzz', '', 'Fizz', '', '', 'FizzBuzz', '', '', 'Fizz', '', 'Buzz', 'Fizz', '', '', 'Fizz', 'Buzz', '', 'Fizz', '', '', 'FizzBuzz', '', '', 'Fizz', '', 'Buzz', 'Fizz', '', '', 'Fizz', 'Buzz', '', 'Fizz', '', '', 'FizzBuzz', '', '', 'Fizz', '', 'Buzz', 'Fizz', '', '', 'Fizz', 'Buzz', '', 'Fizz', '', '', 'FizzBuzz', '', '', 'Fizz', '', 'Buzz', 'Fizz', '', '', 'Fizz', 'Buzz', '', 'Fizz', '', '', 'FizzBuzz', '', '', 'Fizz', '', 'Buzz', 'Fizz', '', '', 'Fizz', 'Buzz', '', 'Fizz', '', '', 'FizzBuzz', '', '', 'Fizz', '', 'Buzz', 'Fizz', '', '', 'Fizz', 'Buzz']\n"
     ]
    }
   ],
   "source": [
    "# Fizz Buzz - 1\n",
    "result = []\n",
    "n = 100\n",
    "\n",
    "for i in range(n):\n",
    "    elem = (\"Fizz\" if (i+1) % 3 == 0 else \"\") + (\"Buzz\" if (i+1) % 5 == 0 else \"\")\n",
    "    result.append(elem)\n",
    "    \n",
    "print(result)"
   ]
  },
  {
   "cell_type": "code",
   "execution_count": 42,
   "metadata": {},
   "outputs": [
    {
     "name": "stdout",
     "output_type": "stream",
     "text": [
      "['', '', 'Fizz', '', 'Buzz', 'Fizz', '', '', 'Fizz', 'Buzz', '', 'Fizz', '', '', 'FizzBuzz', '', '', 'Fizz', '', 'Buzz', 'Fizz', '', '', 'Fizz', 'Buzz', '', 'Fizz', '', '', 'FizzBuzz', '', '', 'Fizz', '', 'Buzz', 'Fizz', '', '', 'Fizz', 'Buzz', '', 'Fizz', '', '', 'FizzBuzz', '', '', 'Fizz', '', 'Buzz', 'Fizz', '', '', 'Fizz', 'Buzz', '', 'Fizz', '', '', 'FizzBuzz', '', '', 'Fizz', '', 'Buzz', 'Fizz', '', '', 'Fizz', 'Buzz', '', 'Fizz', '', '', 'FizzBuzz', '', '', 'Fizz', '', 'Buzz', 'Fizz', '', '', 'Fizz', 'Buzz', '', 'Fizz', '', '', 'FizzBuzz', '', '', 'Fizz', '', 'Buzz', 'Fizz', '', '', 'Fizz', 'Buzz']\n"
     ]
    }
   ],
   "source": [
    "# Fizz Buzz - 2\n",
    "def get_list(n: int, rule1: tuple, rule2: tuple) -> list:\n",
    "    result = []\n",
    "    for i in range(n):\n",
    "        elem = \"\"\n",
    "        \n",
    "        for rule in [rule1, rule2]:\n",
    "            div, text = rule\n",
    "            elem += text if (i+1) % div == 0 else \"\"\n",
    "       \n",
    "        result.append(elem)\n",
    "    return result\n",
    "\n",
    "print(get_list(100, (3, \"Fizz\"), (5, \"Buzz\")))"
   ]
  },
  {
   "cell_type": "code",
   "execution_count": 43,
   "metadata": {},
   "outputs": [
    {
     "name": "stdout",
     "output_type": "stream",
     "text": [
      "[2, 3, 5, 7, 11, 13, 17, 19, 23, 29, 31, 37, 41, 43, 47, 53, 59, 61, 67, 71, 73, 79, 83, 89, 97]\n"
     ]
    }
   ],
   "source": [
    "# Prime number\n",
    "def is_prime(n):\n",
    "    \"\"\" Function that determines whether n is a prime or not \"\"\"\n",
    "    if n == 1:\n",
    "        return False\n",
    "    \n",
    "    for i in range(2, n):\n",
    "        if n % i == 0:\n",
    "            return False\n",
    "    return True\n",
    "\n",
    "n = 100\n",
    "result1 = []\n",
    "result2 = p[]\n",
    "\n",
    "for i in range(2, n):\n",
    "    if is_prime(i):\n",
    "        result1.append(i)\n",
    "        \n",
    "for i in range(2, n):\n",
    "    pass\n",
    "        \n",
    "print(result1)\n",
    "print(result2)"
   ]
  },
  {
   "cell_type": "code",
   "execution_count": 56,
   "metadata": {},
   "outputs": [],
   "source": [
    "# Get sum\n",
    "def get_sum(elems):\n",
    "    \"\"\" Function that calculates the sum of elements \"\"\"\n",
    "    result = 0\n",
    "    for elem in elems:\n",
    "        result += elem\n",
    "    return result"
   ]
  },
  {
   "cell_type": "code",
   "execution_count": 57,
   "metadata": {},
   "outputs": [],
   "source": [
    "# Get max\n",
    "def get_max(elems):\n",
    "    \"\"\" Function that finds the maximum value among the elements \"\"\"\n",
    "    result = elems[0] # Consider of negative numbers\n",
    "    for elem in elems:\n",
    "        if result < elem:\n",
    "            result = elem\n",
    "    return result"
   ]
  },
  {
   "cell_type": "code",
   "execution_count": 58,
   "metadata": {},
   "outputs": [],
   "source": [
    "# lambda - 1\n",
    "def double_maker_def(n):\n",
    "    return n * 2\n",
    "\n",
    "double_maker_lambda = lambda x : x * 2"
   ]
  },
  {
   "cell_type": "code",
   "execution_count": 44,
   "metadata": {},
   "outputs": [
    {
     "name": "stdout",
     "output_type": "stream",
     "text": [
      "[2, 4, 6, 8, 10, 12, 14, 16, 18, 20]\n"
     ]
    }
   ],
   "source": [
    "# lambda operator - map\n",
    "# map, filter, reduce(import functools) : arguments are in the same order \n",
    "\n",
    "k = [1, 2, 3, 4, 5, 6, 7, 8, 9, 10]\n",
    "k2 = list(map(lambda x: x * 2, k))\n",
    "\n",
    "print(k2)"
   ]
  },
  {
   "cell_type": "code",
   "execution_count": 50,
   "metadata": {},
   "outputs": [
    {
     "name": "stdout",
     "output_type": "stream",
     "text": [
      "[False, True, False, True, False, True, False, True, False, True]\n",
      "[2, 4, 6, 8, 10]\n",
      "[2, 4, 6, 8, 10]\n"
     ]
    }
   ],
   "source": [
    "# lambda operator - filter\n",
    "# map: True, filter: excute / map: Flase, filter: NOT excute \n",
    "\n",
    "k = [1, 2, 3, 4, 5, 6, 7, 8, 9, 10]\n",
    "k_map = list(map(lambda x: x % 2 == 0, k))\n",
    "k_filter = list(filter(lambda x: x % 2 == 0, k))\n",
    "print(k_map)\n",
    "print(k_filter)\n",
    "\n",
    "fake_k_filter = []\n",
    "for i in range(len(k_map)):\n",
    "    if k_map[i]:\n",
    "        fake_k_filter.append(k[i])\n",
    "print(fake_k_filter)"
   ]
  },
  {
   "cell_type": "code",
   "execution_count": 59,
   "metadata": {},
   "outputs": [
    {
     "name": "stdout",
     "output_type": "stream",
     "text": [
      "15\n",
      "15\n"
     ]
    }
   ],
   "source": [
    "# lambda operator - reduce\n",
    "\n",
    "from functools import reduce\n",
    "k = [1, 2, 3, 4, 5]\n",
    "sum_result = reduce(lambda x, y: x + y, k)\n",
    "print(sum_result)\n",
    "print(get_sum(k))"
   ]
  },
  {
   "cell_type": "code",
   "execution_count": 114,
   "metadata": {},
   "outputs": [
    {
     "name": "stdout",
     "output_type": "stream",
     "text": [
      "55.0\n"
     ]
    }
   ],
   "source": [
    "# reduce advanced\n",
    "rooms = [\n",
    "    {\"rent\": 50, \"deposit\": 1000},\n",
    "    {\"rent\": 55, \"deposit\": 2000},\n",
    "    {\"rent\": 60, \"deposit\": 6000},\n",
    "]\n",
    "\n",
    "\n",
    "# print(type(rooms[0].values()[0]))\n",
    "# print(rooms[0][\"rent\"])\n",
    "# print(rooms[0].get(\"rent\"))\n",
    "\n",
    "# average_rent = reduce(lambda x, y: dict(rent = x[\"rent\"] + y[\"rent\"]), rooms) // len(rooms)\n",
    "average_rent = reduce(lambda x, y: dict(rent = x[\"rent\"] + y[\"rent\"]), rooms)[\"rent\"] / len(rooms)\n",
    "print(average_rent)"
   ]
  },
  {
   "cell_type": "code",
   "execution_count": 106,
   "metadata": {},
   "outputs": [
    {
     "name": "stdout",
     "output_type": "stream",
     "text": [
      "{'rent': 105}\n"
     ]
    }
   ],
   "source": [
    "# lambda x, y: x.get(\"rent\") + y.get(\"rent\")\n",
    "\n",
    "def test(x, y):\n",
    "    return dict(rent = x[\"rent\"] + y[\"rent\"])\n",
    "\n",
    "\n",
    "x = {\"rent\": 50}\n",
    "y = {\"rent\": 55}\n",
    "\n",
    "print(test(x, y))"
   ]
  },
  {
   "cell_type": "code",
   "execution_count": 2,
   "metadata": {},
   "outputs": [
    {
     "name": "stdout",
     "output_type": "stream",
     "text": [
      "[9, 36, 81]\n",
      "[36]\n"
     ]
    }
   ],
   "source": [
    "k = [1, 2, 3, 4, 5, 6, 7, 8, 9, 10,]\n",
    "new_k = [i ** 2 for i in k if i % 3 == 0]\n",
    "print(new_k)\n",
    "print([i ** 2 for i in k if i % 3 == 0 if i % 2 == 0])\n",
    "# if.. if.. if .. -> logical and"
   ]
  },
  {
   "cell_type": "code",
   "execution_count": null,
   "metadata": {},
   "outputs": [],
   "source": []
  }
 ],
 "metadata": {
  "kernelspec": {
   "display_name": "Python 3",
   "language": "python",
   "name": "python3"
  },
  "language_info": {
   "codemirror_mode": {
    "name": "ipython",
    "version": 3
   },
   "file_extension": ".py",
   "mimetype": "text/x-python",
   "name": "python",
   "nbconvert_exporter": "python",
   "pygments_lexer": "ipython3",
   "version": "3.7.7"
  }
 },
 "nbformat": 4,
 "nbformat_minor": 4
}
